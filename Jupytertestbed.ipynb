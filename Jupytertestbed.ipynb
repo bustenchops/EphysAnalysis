{
 "cells": [
  {
   "cell_type": "code",
   "execution_count": 40,
   "id": "attempted-malpractice",
   "metadata": {},
   "outputs": [
    {
     "ename": "SyntaxError",
     "evalue": "invalid syntax (<ipython-input-40-dd5f48e8d43d>, line 5)",
     "output_type": "error",
     "traceback": [
      "\u001b[1;36m  File \u001b[1;32m\"<ipython-input-40-dd5f48e8d43d>\"\u001b[1;36m, line \u001b[1;32m5\u001b[0m\n\u001b[1;33m    @matplotlib gtk\u001b[0m\n\u001b[1;37m                  ^\u001b[0m\n\u001b[1;31mSyntaxError\u001b[0m\u001b[1;31m:\u001b[0m invalid syntax\n"
     ]
    }
   ],
   "source": [
    "import pyabf\n",
    "import matplotlib.pyplot as plt\n",
    "import numpy as np\n",
    "import re\n",
    "@matplotlib gtk \n",
    "\n",
    "abf = pyabf.ABF(\"/home/pi/ephys/2021-02-16/2021_02_16_0009.abf\")\n",
    "\n",
    "arf = 6\n",
    "abf.setSweep(sweepNumber=arf, channel=1)\n",
    "# xvariablesweep = np.array(abf.sweepX)\n",
    "# yvariablesweep = np.array(abf.sweepY)\n",
    "plt.figure(figsize=(8, 5))\n",
    "# plt.plot(xvariablesweep, yvariablesweep)\n",
    "plt.plot(abf.sweepX, abf.sweepC)\n",
    "plt.show()"
   ]
  },
  {
   "cell_type": "code",
   "execution_count": 37,
   "id": "alien-offering",
   "metadata": {},
   "outputs": [
    {
     "data": {
      "application/vnd.jupyter.widget-view+json": {
       "model_id": "3ea8f0ade05349058184b95d60ee929a",
       "version_major": 2,
       "version_minor": 0
      },
      "text/plain": [
       "interactive(children=(Dropdown(description='File:', options=('2021_02_16_0000.abf', '2021_02_16_0001.abf', '20…"
      ]
     },
     "metadata": {},
     "output_type": "display_data"
    }
   ],
   "source": [
    "import ipywidgets as widgets\n",
    "from ipywidgets import interact, interactive, fixed, interact_manual\n",
    "\n",
    "def thisistheway(x,y):\n",
    "    print(x)\n",
    "    print(y)\n",
    "\n",
    "shit = ['2021_02_16_0000.abf', '2021_02_16_0001.abf', '2021_02_16_0002.abf', '2021_02_16_0003.abf', '2021_02_16_0004.abf', '2021_02_16_0005.abf', '2021_02_16_0006.abf', '2021_02_16_0007.abf', \n",
    "        '2021_02_16_0008.abf', '2021_02_16_0009.abf', '2021_02_16_0010.abf', '2021_02_16_0011.abf', '2021_02_16_0012.abf', '2021_02_16_0013.abf', '2021_02_16_0014.abf', '2021_02_16_0015.abf', \n",
    "        '2021_02_16_0016.abf']\n",
    "\n",
    "f = interact(thisistheway, x=widgets.Dropdown(options= shit, description='File:'), \n",
    "                                y=widgets.IntSlider(min=0, max=10, values=1, step=1, description='Sweep:'),\n",
    "                                )\n",
    "\n",
    "\n"
   ]
  },
  {
   "cell_type": "code",
   "execution_count": 14,
   "id": "desirable-orchestra",
   "metadata": {},
   "outputs": [
    {
     "data": {
      "application/vnd.jupyter.widget-view+json": {
       "model_id": "0772fe61cc154dfaa5a7f7ee2b95c768",
       "version_major": 2,
       "version_minor": 0
      },
      "text/plain": [
       "interactive(children=(IntSlider(value=25, description='a', max=50, min=10, step=2), IntSlider(value=25, descri…"
      ]
     },
     "metadata": {},
     "output_type": "display_data"
    }
   ],
   "source": [
    "from IPython.display import display\n",
    "import ipywidgets as widgets\n",
    "from ipywidgets import interact, interactive, fixed, interact_manual\n",
    "\n",
    "\n",
    "def func3(a,b,c):\n",
    "    display((a+b)^c)\n",
    "\n",
    "w = interact(func3,  a=widgets.IntSlider(min=10, max=50, value=25, step=2),\n",
    "                        b=widgets.IntSlider(min=10, max=50, value=25, step=2),\n",
    "                        c=widgets.IntSlider(min=10, max=50, value=25, step=2),\n",
    "                       )\n"
   ]
  },
  {
   "cell_type": "code",
   "execution_count": 87,
   "id": "looking-straight",
   "metadata": {},
   "outputs": [
    {
     "data": {
      "application/vnd.jupyter.widget-view+json": {
       "model_id": "f84c9a6e359044d6aa57c319fde00fe3",
       "version_major": 2,
       "version_minor": 0
      },
      "text/plain": [
       "interactive(children=(IntSlider(value=0, description='Sweep:', max=9), Output()), _dom_classes=('widget-intera…"
      ]
     },
     "metadata": {},
     "output_type": "display_data"
    }
   ],
   "source": [
    "import pyabf\n",
    "import matplotlib.pyplot as plt\n",
    "import numpy as np\n",
    "import re\n",
    "%matplotlib inline\n",
    "\n",
    "def supershit(herego):\n",
    "    abf = pyabf.ABF(\"/home/pi/ephys/2021-02-16/2021_02_16_0009.abf\")\n",
    "    arf = herego\n",
    "    abf.setSweep(sweepNumber=arf, channel=0)\n",
    "    fig = plt.figure(figsize=(15, 10))\n",
    "    ax = fig.add_subplot(3, 1, (1, 2))\n",
    "    ax.set_ylabel(abf.sweepLabelY)\n",
    "    ax.plot(abf.sweepX, abf.sweepY, alpha=.5, color='c')\n",
    "    abf.setSweep(sweepNumber=arf, channel=1)\n",
    "    bx = fig.add_subplot(3, 1, (3))\n",
    "    bx.plot(abf.sweepX, abf.sweepC, alpha=.5, color = 'r')\n",
    "    fig.canvas.draw()\n",
    "    #plt.show()\n",
    "\n",
    "\n",
    "\n",
    "f = interact(supershit, herego=widgets.IntSlider(min=0, max=9, values=1, step=1, description='Sweep:'),\n",
    "                                )\n"
   ]
  },
  {
   "cell_type": "code",
   "execution_count": null,
   "id": "alive-neighbor",
   "metadata": {},
   "outputs": [],
   "source": []
  },
  {
   "cell_type": "code",
   "execution_count": null,
   "id": "numerous-tract",
   "metadata": {},
   "outputs": [],
   "source": []
  }
 ],
 "metadata": {
  "kernelspec": {
   "display_name": "Python 3",
   "language": "python",
   "name": "python3"
  },
  "language_info": {
   "codemirror_mode": {
    "name": "ipython",
    "version": 3
   },
   "file_extension": ".py",
   "mimetype": "text/x-python",
   "name": "python",
   "nbconvert_exporter": "python",
   "pygments_lexer": "ipython3",
   "version": "3.7.7"
  }
 },
 "nbformat": 4,
 "nbformat_minor": 5
}

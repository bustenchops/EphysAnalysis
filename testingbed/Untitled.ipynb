{
 "cells": [
  {
   "cell_type": "code",
   "execution_count": null,
   "id": "metallic-lottery",
   "metadata": {},
   "outputs": [],
   "source": [
    "import pyqtgraph.examples\n",
    "pyqtgraph.examples.run()"
   ]
  },
  {
   "cell_type": "code",
   "execution_count": 8,
   "id": "expired-reader",
   "metadata": {},
   "outputs": [
    {
     "ename": "RuntimeError",
     "evalue": "Please destroy the QApplication singleton before creating a new QApplication instance.",
     "output_type": "error",
     "traceback": [
      "\u001b[1;31m---------------------------------------------------------------------------\u001b[0m",
      "\u001b[1;31mRuntimeError\u001b[0m                              Traceback (most recent call last)",
      "\u001b[1;32m<ipython-input-8-fad70ef89219>\u001b[0m in \u001b[0;36m<module>\u001b[1;34m\u001b[0m\n\u001b[0;32m     23\u001b[0m \u001b[1;33m\u001b[0m\u001b[0m\n\u001b[0;32m     24\u001b[0m \u001b[1;33m\u001b[0m\u001b[0m\n\u001b[1;32m---> 25\u001b[1;33m \u001b[0mapp\u001b[0m \u001b[1;33m=\u001b[0m \u001b[0mQApplication\u001b[0m\u001b[1;33m(\u001b[0m\u001b[0msys\u001b[0m\u001b[1;33m.\u001b[0m\u001b[0margv\u001b[0m\u001b[1;33m)\u001b[0m\u001b[1;33m\u001b[0m\u001b[1;33m\u001b[0m\u001b[0m\n\u001b[0m\u001b[0;32m     26\u001b[0m \u001b[1;33m\u001b[0m\u001b[0m\n\u001b[0;32m     27\u001b[0m \u001b[0mwindow\u001b[0m \u001b[1;33m=\u001b[0m \u001b[0mMainWindow\u001b[0m\u001b[1;33m(\u001b[0m\u001b[1;33m)\u001b[0m\u001b[1;33m\u001b[0m\u001b[1;33m\u001b[0m\u001b[0m\n",
      "\u001b[1;31mRuntimeError\u001b[0m: Please destroy the QApplication singleton before creating a new QApplication instance."
     ]
    }
   ],
   "source": [
    "import sys\n",
    "from PySide6.QtWidgets import QApplication, QMainWindow, QLabel, QLineEdit, QVBoxLayout, QWidget\n",
    "\n",
    "\n",
    "class MainWindow(QMainWindow):\n",
    "    def __init__(self):\n",
    "        super().__init__()\n",
    "\n",
    "        self.setWindowTitle(\"My App\")\n",
    "\n",
    "        self.label = QLabel()\n",
    "\n",
    "        crap = QLineEdit()\n",
    "        \n",
    "        layout = QVBoxLayout()\n",
    "        layout.addWidget(self.input)\n",
    "        layout.addWidget(self.label)\n",
    "\n",
    "        container = QWidget()\n",
    "        container.setLayout(layout)\n",
    "\n",
    "        self.setCentralWidget(container)\n",
    "\n",
    "\n",
    "app = QApplication(sys.argv)\n",
    "\n",
    "window = MainWindow()\n",
    "window.show()\n",
    "\n",
    "app.exec_()"
   ]
  },
  {
   "cell_type": "code",
   "execution_count": 7,
   "id": "respiratory-class",
   "metadata": {},
   "outputs": [
    {
     "data": {
      "text/plain": [
       "['__call__',\n",
       " '__class__',\n",
       " '__delattr__',\n",
       " '__dir__',\n",
       " '__doc__',\n",
       " '__eq__',\n",
       " '__format__',\n",
       " '__func__',\n",
       " '__ge__',\n",
       " '__get__',\n",
       " '__getattribute__',\n",
       " '__gt__',\n",
       " '__hash__',\n",
       " '__init__',\n",
       " '__init_subclass__',\n",
       " '__le__',\n",
       " '__lt__',\n",
       " '__ne__',\n",
       " '__new__',\n",
       " '__reduce__',\n",
       " '__reduce_ex__',\n",
       " '__repr__',\n",
       " '__self__',\n",
       " '__setattr__',\n",
       " '__sizeof__',\n",
       " '__str__',\n",
       " '__subclasshook__']"
      ]
     },
     "execution_count": 7,
     "metadata": {},
     "output_type": "execute_result"
    }
   ],
   "source": [
    "dir(crap)"
   ]
  },
  {
   "cell_type": "code",
   "execution_count": 6,
   "id": "satisfactory-johnson",
   "metadata": {},
   "outputs": [
    {
     "ename": "NameError",
     "evalue": "name 'self' is not defined",
     "output_type": "error",
     "traceback": [
      "\u001b[1;31m---------------------------------------------------------------------------\u001b[0m",
      "\u001b[1;31mNameError\u001b[0m                                 Traceback (most recent call last)",
      "\u001b[1;32m<ipython-input-6-5a029db5a412>\u001b[0m in \u001b[0;36m<module>\u001b[1;34m\u001b[0m\n\u001b[1;32m----> 1\u001b[1;33m \u001b[0mdir\u001b[0m\u001b[1;33m(\u001b[0m\u001b[0mself\u001b[0m\u001b[1;33m.\u001b[0m\u001b[0minput\u001b[0m\u001b[1;33m)\u001b[0m\u001b[1;33m\u001b[0m\u001b[1;33m\u001b[0m\u001b[0m\n\u001b[0m",
      "\u001b[1;31mNameError\u001b[0m: name 'self' is not defined"
     ]
    }
   ],
   "source": [
    "dir(self.input)"
   ]
  },
  {
   "cell_type": "code",
   "execution_count": 1,
   "id": "accepting-alexandria",
   "metadata": {},
   "outputs": [
    {
     "name": "stdout",
     "output_type": "stream",
     "text": [
      "4\n"
     ]
    },
    {
     "ename": "SystemExit",
     "evalue": "0",
     "output_type": "error",
     "traceback": [
      "An exception has occurred, use %tb to see the full traceback.\n",
      "\u001b[1;31mSystemExit\u001b[0m\u001b[1;31m:\u001b[0m 0\n"
     ]
    },
    {
     "name": "stderr",
     "output_type": "stream",
     "text": [
      "c:\\users\\kirkm\\appdata\\local\\programs\\python\\python37\\lib\\site-packages\\IPython\\core\\interactiveshell.py:3445: UserWarning: To exit: use 'exit', 'quit', or Ctrl-D.\n",
      "  warn(\"To exit: use 'exit', 'quit', or Ctrl-D.\", stacklevel=1)\n"
     ]
    }
   ],
   "source": [
    "from PyQt5.QtWidgets import * \n",
    "from PyQt5 import QtCore, QtGui\n",
    "from PyQt5.QtGui import * \n",
    "from PyQt5.QtCore import * \n",
    "import sys\n",
    "  \n",
    "  \n",
    "class Window(QMainWindow):\n",
    "  \n",
    "    def __init__(self):\n",
    "        super().__init__()\n",
    "  \n",
    "        # setting title\n",
    "        self.setWindowTitle(\"Python \")\n",
    "  \n",
    "        # setting geometry\n",
    "        self.setGeometry(100, 100, 600, 400)\n",
    "  \n",
    "        # calling method\n",
    "        self.UiComponents()\n",
    "  \n",
    "        # showing all the widgets\n",
    "        self.show()\n",
    "  \n",
    "    # method for widgets\n",
    "    def UiComponents(self):\n",
    "  \n",
    "        # creating a combo box widget\n",
    "        self.combo_box = QComboBox(self)\n",
    "  \n",
    "        # setting geometry of combo box\n",
    "        self.combo_box.setGeometry(200, 150, 120, 30)\n",
    "  \n",
    "        # geek list\n",
    "        geek_list = [\"Geek\", \"Geeky Geek\", \"Legend Geek\", \"Ultra Legend Geek\"]\n",
    "  \n",
    "        # adding list of items to combo box\n",
    "        self.combo_box.addItems(geek_list)\n",
    "  \n",
    "        # creating push button\n",
    "        button = QPushButton(\"Change content \", self)\n",
    "  \n",
    "        print(self.combo_box.count())\n",
    "  \n",
    "        # adding action to button\n",
    "        button.pressed.connect(self.find)\n",
    "  \n",
    "        # creating label\n",
    "        self.label = QLabel(self)\n",
    "  \n",
    "        # setting geometry of the label\n",
    "        self.label.setGeometry(200, 200, 200, 30)\n",
    "  \n",
    "        # old content at index 2\n",
    "        content = self.combo_box.itemText(2)\n",
    "  \n",
    "        # showing the old content\n",
    "        self.label.setText(\"old content  : content\")\n",
    "  \n",
    "    def find(self):\n",
    "  \n",
    "        # index\n",
    "        index = 2\n",
    "  \n",
    "        # changing the content\n",
    "        self.combo_box.setItemText(index, \"New data\")\n",
    "  \n",
    "  \n",
    "# create pyqt5 app\n",
    "App = QApplication(sys.argv)\n",
    "  \n",
    "# create the instance of our Window\n",
    "window = Window()\n",
    "  \n",
    "# start the app\n",
    "sys.exit(App.exec())"
   ]
  },
  {
   "cell_type": "code",
   "execution_count": null,
   "id": "worst-columbia",
   "metadata": {},
   "outputs": [],
   "source": []
  },
  {
   "cell_type": "code",
   "execution_count": null,
   "id": "unusual-travel",
   "metadata": {},
   "outputs": [],
   "source": []
  }
 ],
 "metadata": {
  "kernelspec": {
   "display_name": "Python 3",
   "language": "python",
   "name": "python3"
  },
  "language_info": {
   "codemirror_mode": {
    "name": "ipython",
    "version": 3
   },
   "file_extension": ".py",
   "mimetype": "text/x-python",
   "name": "python",
   "nbconvert_exporter": "python",
   "pygments_lexer": "ipython3",
   "version": "3.7.7"
  }
 },
 "nbformat": 4,
 "nbformat_minor": 5
}

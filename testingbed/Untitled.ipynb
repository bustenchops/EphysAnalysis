{
 "cells": [
  {
   "cell_type": "code",
   "execution_count": null,
   "id": "57e06510-62c5-4ed1-9ba0-00db4b2ada07",
   "metadata": {},
   "outputs": [],
   "source": [
    "import pyqtgraph.examples\n",
    "pyqtgraph.examples.run()"
   ]
  },
  {
   "cell_type": "code",
   "execution_count": null,
   "id": "d1df3490-781a-4ebe-893b-bb654f3d2b9c",
   "metadata": {},
   "outputs": [],
   "source": [
    "import numpy as np\n",
    "import pyqtgraph as pg\n",
    "\n",
    "data = np.random.normal(size=1000)\n",
    "pg.plot(data, title=\"Simplest possible plotting example\")\n",
    "\n",
    "data = np.random.normal(size=(500,500))\n",
    "pg.image(data, title=\"Simplest possible image example\")\n",
    "\n",
    "if __name__ == '__main__':\n",
    "    pg.exec()"
   ]
  },
  {
   "cell_type": "code",
   "execution_count": null,
   "id": "10e198a0-e6af-40ae-90e1-caa9a772147f",
   "metadata": {},
   "outputs": [],
   "source": []
  }
 ],
 "metadata": {
  "kernelspec": {
   "display_name": "Python 3",
   "language": "python",
   "name": "python3"
  },
  "language_info": {
   "codemirror_mode": {
    "name": "ipython",
    "version": 3
   },
   "file_extension": ".py",
   "mimetype": "text/x-python",
   "name": "python",
   "nbconvert_exporter": "python",
   "pygments_lexer": "ipython3",
   "version": "3.9.5"
  }
 },
 "nbformat": 4,
 "nbformat_minor": 5
}

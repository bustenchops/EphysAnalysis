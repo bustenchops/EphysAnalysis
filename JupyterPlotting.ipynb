{
 "cells": [
  {
   "cell_type": "code",
   "execution_count": 5,
   "id": "awful-conversion",
   "metadata": {},
   "outputs": [
    {
     "name": "stdout",
     "output_type": "stream",
     "text": [
      "IMPORTING DIRECTORIES\n"
     ]
    },
    {
     "name": "stdin",
     "output_type": "stream",
     "text": [
      "Are the files in the folder /home/pi/ephys/ (y or n)?  y\n",
      "Enter the experiment date in yyyy-mm-dd format  2021-02-16\n"
     ]
    },
    {
     "name": "stdout",
     "output_type": "stream",
     "text": [
      "Subfolders within home folder:\n",
      "['2021-02-10', '2021-02-16']\n",
      "Files within experiment date folder\n",
      "['2021-02-16-cell1.lsm', '2021-02-16-cell2.lsm', '2021_02_16_0000.abf', '2021_02_16_0001.abf', '2021_02_16_0002.abf', '2021_02_16_0003.abf', '2021_02_16_0004.abf', '2021_02_16_0005.abf', '2021_02_16_0006.abf', '2021_02_16_0007.abf', '2021_02_16_0008.abf', '2021_02_16_0009.abf', '2021_02_16_0010.abf', '2021_02_16_0011.abf', '2021_02_16_0012.abf', '2021_02_16_0013.abf', '2021_02_16_0014.abf', '2021_02_16_0015.abf', '2021_02_16_0016.abf']\n",
      "ISOLATING ABF FILES...\n",
      "*.abf files in folder:\n",
      "['2021_02_16_0000.abf', '2021_02_16_0001.abf', '2021_02_16_0002.abf', '2021_02_16_0003.abf', '2021_02_16_0004.abf', '2021_02_16_0005.abf', '2021_02_16_0006.abf', '2021_02_16_0007.abf', '2021_02_16_0008.abf', '2021_02_16_0009.abf', '2021_02_16_0010.abf', '2021_02_16_0011.abf', '2021_02_16_0012.abf', '2021_02_16_0013.abf', '2021_02_16_0014.abf', '2021_02_16_0015.abf', '2021_02_16_0016.abf']\n"
     ]
    },
    {
     "ename": "NameError",
     "evalue": "name 'setfile' is not defined",
     "output_type": "error",
     "traceback": [
      "\u001b[1;31m---------------------------------------------------------------------------\u001b[0m",
      "\u001b[1;31mNameError\u001b[0m                                 Traceback (most recent call last)",
      "\u001b[1;32m<ipython-input-5-e8803d1c771f>\u001b[0m in \u001b[0;36m<module>\u001b[1;34m\u001b[0m\n\u001b[0;32m      3\u001b[0m \u001b[1;31m# Execute order 66\u001b[0m\u001b[1;33m\u001b[0m\u001b[1;33m\u001b[0m\u001b[1;33m\u001b[0m\u001b[0m\n\u001b[0;32m      4\u001b[0m \u001b[0mSofun\u001b[0m \u001b[1;33m=\u001b[0m \u001b[0mEphysClass\u001b[0m\u001b[1;33m(\u001b[0m\u001b[1;33m)\u001b[0m\u001b[1;33m\u001b[0m\u001b[1;33m\u001b[0m\u001b[0m\n\u001b[1;32m----> 5\u001b[1;33m \u001b[0mSofun\u001b[0m\u001b[1;33m.\u001b[0m\u001b[0mloadfiles\u001b[0m\u001b[1;33m(\u001b[0m\u001b[1;33m)\u001b[0m\u001b[1;33m\u001b[0m\u001b[1;33m\u001b[0m\u001b[0m\n\u001b[0m",
      "\u001b[1;32mD:\\Programs\\Pycharm\\Projects\\Ephys_Analysis\\pyABFjupyterclass.py\u001b[0m in \u001b[0;36mloadfiles\u001b[1;34m(self)\u001b[0m\n\u001b[0;32m     57\u001b[0m         \u001b[0mprint\u001b[0m\u001b[1;33m(\u001b[0m\u001b[1;34m'*.abf files in folder:'\u001b[0m\u001b[1;33m)\u001b[0m\u001b[1;33m\u001b[0m\u001b[1;33m\u001b[0m\u001b[0m\n\u001b[0;32m     58\u001b[0m         \u001b[0mprint\u001b[0m\u001b[1;33m(\u001b[0m\u001b[0mself\u001b[0m\u001b[1;33m.\u001b[0m\u001b[0mabffiles\u001b[0m\u001b[1;33m)\u001b[0m\u001b[1;33m\u001b[0m\u001b[1;33m\u001b[0m\u001b[0m\n\u001b[1;32m---> 59\u001b[1;33m         \u001b[0mself\u001b[0m\u001b[1;33m.\u001b[0m\u001b[0mddfile\u001b[0m \u001b[1;33m=\u001b[0m \u001b[0minteract\u001b[0m\u001b[1;33m(\u001b[0m\u001b[0mself\u001b[0m\u001b[1;33m.\u001b[0m\u001b[0msetthefile\u001b[0m\u001b[1;33m,\u001b[0m \u001b[0mdropdownfile\u001b[0m\u001b[1;33m=\u001b[0m\u001b[0mwidgets\u001b[0m\u001b[1;33m.\u001b[0m\u001b[0mDropdown\u001b[0m\u001b[1;33m(\u001b[0m\u001b[0moption\u001b[0m\u001b[1;33m=\u001b[0m\u001b[0mself\u001b[0m\u001b[1;33m.\u001b[0m\u001b[0mabffiles\u001b[0m\u001b[1;33m,\u001b[0m \u001b[0mdescription\u001b[0m\u001b[1;33m=\u001b[0m\u001b[1;34m'File:'\u001b[0m\u001b[1;33m)\u001b[0m\u001b[1;33m,\u001b[0m\u001b[1;33m)\u001b[0m\u001b[1;33m\u001b[0m\u001b[1;33m\u001b[0m\u001b[0m\n\u001b[0m\u001b[0;32m     60\u001b[0m \u001b[1;33m\u001b[0m\u001b[0m\n\u001b[0;32m     61\u001b[0m     \u001b[1;32mdef\u001b[0m \u001b[0msetthefile\u001b[0m\u001b[1;33m(\u001b[0m\u001b[0mself\u001b[0m\u001b[1;33m,\u001b[0m \u001b[0mdropdownfile\u001b[0m\u001b[1;33m)\u001b[0m\u001b[1;33m:\u001b[0m\u001b[1;33m\u001b[0m\u001b[1;33m\u001b[0m\u001b[0m\n",
      "\u001b[1;31mNameError\u001b[0m: name 'setfile' is not defined"
     ]
    }
   ],
   "source": [
    "from pyABFjupyterclass import EphysClass\n",
    "\n",
    "# Execute order 66\n",
    "Sofun = EphysClass()\n",
    "Sofun.loadfiles()"
   ]
  },
  {
   "cell_type": "code",
   "execution_count": null,
   "id": "traditional-citizenship",
   "metadata": {},
   "outputs": [],
   "source": []
  }
 ],
 "metadata": {
  "kernelspec": {
   "display_name": "Python 3",
   "language": "python",
   "name": "python3"
  },
  "language_info": {
   "codemirror_mode": {
    "name": "ipython",
    "version": 3
   },
   "file_extension": ".py",
   "mimetype": "text/x-python",
   "name": "python",
   "nbconvert_exporter": "python",
   "pygments_lexer": "ipython3",
   "version": "3.7.7"
  }
 },
 "nbformat": 4,
 "nbformat_minor": 5
}

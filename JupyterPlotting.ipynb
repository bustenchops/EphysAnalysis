{
 "cells": [
  {
   "cell_type": "code",
   "execution_count": 1,
   "id": "solar-effects",
   "metadata": {},
   "outputs": [
    {
     "name": "stdout",
     "output_type": "stream",
     "text": [
      "IMPORTING DIRECTORIES....\n"
     ]
    },
    {
     "name": "stdin",
     "output_type": "stream",
     "text": [
      "Are the files in the folder /home/pi/ephys/ (y or n)?  y\n",
      "Enter the experiment date in yyyy-mm-dd format  2021-02-16\n"
     ]
    },
    {
     "data": {
      "application/vnd.jupyter.widget-view+json": {
       "model_id": "4c5ac67cfd94409b8e3f2359e08b5531",
       "version_major": 2,
       "version_minor": 0
      },
      "text/plain": [
       "interactive(children=(Dropdown(description='File:', options=('2021_02_16_0000.abf', '2021_02_16_0001.abf', '20…"
      ]
     },
     "metadata": {},
     "output_type": "display_data"
    }
   ],
   "source": [
    "from pyABFjupyterclass import EphysClass\n",
    "\n",
    "# Execute order 6y\n",
    "Sofun = EphysClass()\n",
    "Sofun.loadfiles()"
   ]
  },
  {
   "cell_type": "code",
   "execution_count": null,
   "id": "complicated-cocktail",
   "metadata": {},
   "outputs": [],
   "source": []
  }
 ],
 "metadata": {
  "kernelspec": {
   "display_name": "Python 3",
   "language": "python",
   "name": "python3"
  },
  "language_info": {
   "codemirror_mode": {
    "name": "ipython",
    "version": 3
   },
   "file_extension": ".py",
   "mimetype": "text/x-python",
   "name": "python",
   "nbconvert_exporter": "python",
   "pygments_lexer": "ipython3",
   "version": "3.7.7"
  }
 },
 "nbformat": 4,
 "nbformat_minor": 5
}
